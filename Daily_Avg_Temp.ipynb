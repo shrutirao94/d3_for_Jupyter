{
 "cells": [
  {
   "cell_type": "markdown",
   "metadata": {},
   "source": [
    "# Daily Average Temperature - Multi Series Graph\n",
    "\n",
    "This following graph shows the daily average temperatures for New York, San Francisco and Austin. Data for this graph was obtained from Mike Bostock's tsv file found here: https://gist.githubusercontent.com/mbostock/3884955/raw/e4a63c6dd9388068444a576182acd466de98b603/data.tsv\n",
    "\n"
   ]
  },
  {
   "cell_type": "code",
   "execution_count": 168,
   "metadata": {
    "collapsed": true
   },
   "outputs": [],
   "source": [
    "from IPython.core.display import display, HTML\n",
    "from string import Template\n",
    "import pandas as pd\n",
    "import json, random"
   ]
  },
  {
   "cell_type": "code",
   "execution_count": 169,
   "metadata": {
    "collapsed": false
   },
   "outputs": [
    {
     "data": {
      "text/html": [
       "<script src=\"\"//d3js.org/d3.v3.min.js\"></script>"
      ],
      "text/plain": [
       "<IPython.core.display.HTML object>"
      ]
     },
     "execution_count": 169,
     "metadata": {},
     "output_type": "execute_result"
    }
   ],
   "source": [
    "HTML('<script src=\"\"//d3js.org/d3.v3.min.js\"></script>')"
   ]
  },
  {
   "cell_type": "code",
   "execution_count": 170,
   "metadata": {
    "collapsed": false
   },
   "outputs": [
    {
     "data": {
      "text/html": [
       "<div>\n",
       "<table border=\"1\" class=\"dataframe\">\n",
       "  <thead>\n",
       "    <tr style=\"text-align: right;\">\n",
       "      <th></th>\n",
       "      <th>date</th>\n",
       "      <th>New York</th>\n",
       "      <th>San Francisco</th>\n",
       "      <th>Austin</th>\n",
       "    </tr>\n",
       "  </thead>\n",
       "  <tbody>\n",
       "    <tr>\n",
       "      <th>0</th>\n",
       "      <td>20111001</td>\n",
       "      <td>63.4</td>\n",
       "      <td>62.7</td>\n",
       "      <td>72.2</td>\n",
       "    </tr>\n",
       "    <tr>\n",
       "      <th>1</th>\n",
       "      <td>20111002</td>\n",
       "      <td>58.0</td>\n",
       "      <td>59.9</td>\n",
       "      <td>67.7</td>\n",
       "    </tr>\n",
       "    <tr>\n",
       "      <th>2</th>\n",
       "      <td>20111003</td>\n",
       "      <td>53.3</td>\n",
       "      <td>59.1</td>\n",
       "      <td>69.4</td>\n",
       "    </tr>\n",
       "    <tr>\n",
       "      <th>3</th>\n",
       "      <td>20111004</td>\n",
       "      <td>55.7</td>\n",
       "      <td>58.8</td>\n",
       "      <td>68.0</td>\n",
       "    </tr>\n",
       "    <tr>\n",
       "      <th>4</th>\n",
       "      <td>20111005</td>\n",
       "      <td>64.2</td>\n",
       "      <td>58.7</td>\n",
       "      <td>72.4</td>\n",
       "    </tr>\n",
       "  </tbody>\n",
       "</table>\n",
       "</div>"
      ],
      "text/plain": [
       "       date  New York  San Francisco  Austin\n",
       "0  20111001      63.4           62.7    72.2\n",
       "1  20111002      58.0           59.9    67.7\n",
       "2  20111003      53.3           59.1    69.4\n",
       "3  20111004      55.7           58.8    68.0\n",
       "4  20111005      64.2           58.7    72.4"
      ]
     },
     "execution_count": 170,
     "metadata": {},
     "output_type": "execute_result"
    }
   ],
   "source": [
    "filename  = 'https://gist.githubusercontent.com/mbostock/3884955/raw/e4a63c6dd9388068444a576182acd466de98b603/data.tsv'\n",
    "avg_temp  = pd.read_csv(filename,\"\\t\")\n",
    "avg_temp.head()"
   ]
  },
  {
   "cell_type": "markdown",
   "metadata": {},
   "source": [
    "#### Convert this to an array of dicts"
   ]
  },
  {
   "cell_type": "code",
   "execution_count": 171,
   "metadata": {
    "collapsed": false
   },
   "outputs": [
    {
     "data": {
      "text/plain": [
       "[{'Austin': 72.200000000000003,\n",
       "  'New York': 63.399999999999999,\n",
       "  'San Francisco': 62.700000000000003,\n",
       "  'date': 20111001.0},\n",
       " {'Austin': 67.700000000000003,\n",
       "  'New York': 58.0,\n",
       "  'San Francisco': 59.899999999999999,\n",
       "  'date': 20111002.0},\n",
       " {'Austin': 69.400000000000006,\n",
       "  'New York': 53.299999999999997,\n",
       "  'San Francisco': 59.100000000000001,\n",
       "  'date': 20111003.0},\n",
       " {'Austin': 68.0,\n",
       "  'New York': 55.700000000000003,\n",
       "  'San Francisco': 58.799999999999997,\n",
       "  'date': 20111004.0},\n",
       " {'Austin': 72.400000000000006,\n",
       "  'New York': 64.200000000000003,\n",
       "  'San Francisco': 58.700000000000003,\n",
       "  'date': 20111005.0}]"
      ]
     },
     "execution_count": 171,
     "metadata": {},
     "output_type": "execute_result"
    }
   ],
   "source": [
    "avg_temp_array_of_dict = avg_temp.to_dict(orient='records')\n",
    "avg_temp_array_of_dict[:5]"
   ]
  },
  {
   "cell_type": "markdown",
   "metadata": {},
   "source": [
    "### Adding in the CSS from Mike Bostock's bl.ocks.org http://bl.ocks.org/mbostock/3884955#data.tsv"
   ]
  },
  {
   "cell_type": "code",
   "execution_count": 172,
   "metadata": {
    "collapsed": true
   },
   "outputs": [],
   "source": [
    "css_text = '''\n",
    ".axis path,\n",
    ".axis line {\n",
    "  fill: none;\n",
    "  stroke: #000;\n",
    "  shape-rendering: crispEdges;\n",
    "}\n",
    "\n",
    ".x.axis path {\n",
    "  display: none;\n",
    "}\n",
    "\n",
    ".line {\n",
    "  fill: none;\n",
    "  stroke: steelblue;\n",
    "  stroke-width: 1.5px;\n",
    "}\n",
    "\n",
    "'''"
   ]
  },
  {
   "cell_type": "code",
   "execution_count": 173,
   "metadata": {
    "collapsed": true
   },
   "outputs": [],
   "source": [
    "js_text_template = Template('''\n",
    "\n",
    "var margin = {top: 20, right: 80, bottom: 30, left: 50},\n",
    "    width = 1000 - margin.left - margin.right,\n",
    "    height = 550 - margin.top - margin.bottom;\n",
    "\n",
    "var parseDate = d3.time.format(\"%Y%m%d\").parse;\n",
    "\n",
    "var x = d3.time.scale()\n",
    "    .range([0, width]);\n",
    "\n",
    "var y = d3.scale.linear()\n",
    "    .range([height, 0]);\n",
    "\n",
    "var color = d3.scale.category10();\n",
    "x\n",
    "var xAxis = d3.svg.axis()\n",
    "    .scale(x)\n",
    "    .orient(\"bottom\");\n",
    "\n",
    "var yAxis = d3.svg.axis()\n",
    "    .scale(y)\n",
    "    .orient(\"left\");\n",
    "\n",
    "var line = d3.svg.line()\n",
    "    .interpolate(\"basis\")\n",
    "    .x(function(d) { return x(d.date); })\n",
    "    .y(function(d) { return y(d.temperature); });\n",
    "\n",
    "var svg = d3.select(\"#$graphdiv\").append(\"svg\")\n",
    " .attr(\"width\", width + margin.left + margin.right)\n",
    "    .attr(\"height\", height + margin.top + margin.bottom)\n",
    "  .append(\"g\")\n",
    "    .attr(\"transform\", \"translate(\" + margin.left + \",\" + margin.top + \")\");\n",
    "\n",
    "var data = $python_data;\n",
    "\n",
    "  color.domain(d3.keys(data[0]).filter(function(key) { return key !== \"date\"; }));\n",
    "\n",
    "  data.forEach(function(d) {\n",
    "    d.date = parseDate(String(d.date));\n",
    "  });\n",
    "\n",
    "  var cities = color.domain().map(function(name) {\n",
    "    return {\n",
    "      name: name,\n",
    "      values: data.map(function(d) {\n",
    "        return {date: d.date, temperature: +d[name]};\n",
    "      })\n",
    "    };\n",
    "  });\n",
    "\n",
    "  x.domain(d3.extent(data, function(d) { return d.date; }));\n",
    "\n",
    "  y.domain([\n",
    "    d3.min(cities, function(c) { return d3.min(c.values, function(v) { return v.temperature; }); }),\n",
    "    d3.max(cities, function(c) { return d3.max(c.values, function(v) { return v.temperature; }); })\n",
    "  ]);\n",
    "\n",
    "svg.append(\"g\")\n",
    "      .attr(\"class\", \"x axis\")\n",
    "      .attr(\"transform\", \"translate(0,\" + height + \")\")\n",
    "      .call(xAxis);\n",
    "\n",
    "  svg.append(\"g\")\n",
    "      .attr(\"class\", \"y axis\")\n",
    "      .call(yAxis)\n",
    "    .append(\"text\")\n",
    "      .attr(\"transform\", \"rotate(-90)\")\n",
    "      .attr(\"y\", 6)\n",
    "      .attr(\"dy\", \".71em\")\n",
    "      .style(\"text-anchor\", \"end\")\n",
    "      .text(\"Temperature (F)\");\n",
    "\n",
    "  var city = svg.selectAll(\".city\")\n",
    "      .data(cities)\n",
    "    .enter().append(\"g\")\n",
    "      .attr(\"class\", \"city\");\n",
    "\n",
    "  city.append(\"path\")\n",
    "      .attr(\"class\", \"line\")\n",
    "      .attr(\"d\", function(d) { return line(d.values); })\n",
    "      .style(\"stroke\", function(d) { return color(d.name); });\n",
    "\n",
    "  city.append(\"text\")\n",
    "      .datum(function(d) { return {name: d.name, value: d.values[d.values.length - 1]}; })\n",
    "      .attr(\"transform\", function(d) { return \"translate(\" + x(d.value.date) + \",\" + y(d.value.temperature) + \")\"; })\n",
    "      .attr(\"x\", 3)\n",
    "      .attr(\"dy\", \".30em\")\n",
    "      .text(function(d) { return d.name; });\n",
    "\n",
    "''')"
   ]
  },
  {
   "cell_type": "code",
   "execution_count": 174,
   "metadata": {
    "collapsed": false
   },
   "outputs": [
    {
     "data": {
      "text/html": [
       "\n",
       "<style> \n",
       ".axis path,\n",
       ".axis line {\n",
       "  fill: none;\n",
       "  stroke: #000;\n",
       "  shape-rendering: crispEdges;\n",
       "}\n",
       "\n",
       ".x.axis path {\n",
       "  display: none;\n",
       "}\n",
       "\n",
       ".line {\n",
       "  fill: none;\n",
       "  stroke: steelblue;\n",
       "  stroke-width: 1.5px;\n",
       "}\n",
       "\n",
       " </style>\n",
       "<div id=\"graph-div\"></div>\n",
       "<script> \n",
       "\n",
       "var margin = {top: 20, right: 80, bottom: 30, left: 50},\n",
       "    width = 1000 - margin.left - margin.right,\n",
       "    height = 550 - margin.top - margin.bottom;\n",
       "\n",
       "var parseDate = d3.time.format(\"%Y%m%d\").parse;\n",
       "\n",
       "var x = d3.time.scale()\n",
       "    .range([0, width]);\n",
       "\n",
       "var y = d3.scale.linear()\n",
       "    .range([height, 0]);\n",
       "\n",
       "var color = d3.scale.category10();\n",
       "x\n",
       "var xAxis = d3.svg.axis()\n",
       "    .scale(x)\n",
       "    .orient(\"bottom\");\n",
       "\n",
       "var yAxis = d3.svg.axis()\n",
       "    .scale(y)\n",
       "    .orient(\"left\");\n",
       "\n",
       "var line = d3.svg.line()\n",
       "    .interpolate(\"basis\")\n",
       "    .x(function(d) { return x(d.date); })\n",
       "    .y(function(d) { return y(d.temperature); });\n",
       "\n",
       "var svg = d3.select(\"#graph-div\").append(\"svg\")\n",
       " .attr(\"width\", width + margin.left + margin.right)\n",
       "    .attr(\"height\", height + margin.top + margin.bottom)\n",
       "  .append(\"g\")\n",
       "    .attr(\"transform\", \"translate(\" + margin.left + \",\" + margin.top + \")\");\n",
       "\n",
       "var data = [{\"date\": 20111001.0, \"San Francisco\": 62.700000000000003, \"New York\": 63.399999999999999, \"Austin\": 72.200000000000003}, {\"date\": 20111002.0, \"San Francisco\": 59.899999999999999, \"New York\": 58.0, \"Austin\": 67.700000000000003}, {\"date\": 20111003.0, \"San Francisco\": 59.100000000000001, \"New York\": 53.299999999999997, \"Austin\": 69.400000000000006}, {\"date\": 20111004.0, \"San Francisco\": 58.799999999999997, \"New York\": 55.700000000000003, \"Austin\": 68.0}, {\"date\": 20111005.0, \"San Francisco\": 58.700000000000003, \"New York\": 64.200000000000003, \"Austin\": 72.400000000000006}, {\"date\": 20111006.0, \"San Francisco\": 57.0, \"New York\": 58.799999999999997, \"Austin\": 77.0}, {\"date\": 20111007.0, \"San Francisco\": 56.700000000000003, \"New York\": 57.899999999999999, \"Austin\": 82.299999999999997}, {\"date\": 20111008.0, \"San Francisco\": 56.799999999999997, \"New York\": 61.799999999999997, \"Austin\": 78.900000000000006}, {\"date\": 20111009.0, \"San Francisco\": 56.700000000000003, \"New York\": 69.299999999999997, \"Austin\": 68.799999999999997}, {\"date\": 20111010.0, \"San Francisco\": 60.100000000000001, \"New York\": 71.200000000000003, \"Austin\": 68.700000000000003}, {\"date\": 20111011.0, \"San Francisco\": 61.100000000000001, \"New York\": 68.700000000000003, \"Austin\": 70.299999999999997}, {\"date\": 20111012.0, \"San Francisco\": 61.5, \"New York\": 61.799999999999997, \"Austin\": 75.299999999999997}, {\"date\": 20111013.0, \"San Francisco\": 64.299999999999997, \"New York\": 63.0, \"Austin\": 76.599999999999994}, {\"date\": 20111014.0, \"San Francisco\": 67.099999999999994, \"New York\": 66.900000000000006, \"Austin\": 66.599999999999994}, {\"date\": 20111015.0, \"San Francisco\": 64.599999999999994, \"New York\": 61.700000000000003, \"Austin\": 68.0}, {\"date\": 20111016.0, \"San Francisco\": 61.600000000000001, \"New York\": 61.799999999999997, \"Austin\": 70.599999999999994}, {\"date\": 20111017.0, \"San Francisco\": 61.100000000000001, \"New York\": 62.799999999999997, \"Austin\": 71.099999999999994}, {\"date\": 20111018.0, \"San Francisco\": 59.200000000000003, \"New York\": 60.799999999999997, \"Austin\": 70.0}, {\"date\": 20111019.0, \"San Francisco\": 58.899999999999999, \"New York\": 62.100000000000001, \"Austin\": 61.600000000000001}, {\"date\": 20111020.0, \"San Francisco\": 57.200000000000003, \"New York\": 65.099999999999994, \"Austin\": 57.399999999999999}, {\"date\": 20111021.0, \"San Francisco\": 56.399999999999999, \"New York\": 55.600000000000001, \"Austin\": 64.299999999999997}, {\"date\": 20111022.0, \"San Francisco\": 60.700000000000003, \"New York\": 54.399999999999999, \"Austin\": 72.400000000000006}, {\"date\": 20111023.0, \"San Francisco\": 65.099999999999994, \"New York\": 54.399999999999999, \"Austin\": 72.400000000000006}, {\"date\": 20111024.0, \"San Francisco\": 60.899999999999999, \"New York\": 54.799999999999997, \"Austin\": 72.5}, {\"date\": 20111025.0, \"San Francisco\": 56.100000000000001, \"New York\": 57.899999999999999, \"Austin\": 72.700000000000003}, {\"date\": 20111026.0, \"San Francisco\": 54.600000000000001, \"New York\": 54.600000000000001, \"Austin\": 73.400000000000006}, {\"date\": 20111027.0, \"San Francisco\": 56.100000000000001, \"New York\": 54.399999999999999, \"Austin\": 70.700000000000003}, {\"date\": 20111028.0, \"San Francisco\": 58.100000000000001, \"New York\": 42.5, \"Austin\": 56.799999999999997}, {\"date\": 20111029.0, \"San Francisco\": 57.5, \"New York\": 40.899999999999999, \"Austin\": 51.0}, {\"date\": 20111030.0, \"San Francisco\": 57.700000000000003, \"New York\": 38.600000000000001, \"Austin\": 54.899999999999999}, {\"date\": 20111031.0, \"San Francisco\": 55.100000000000001, \"New York\": 44.200000000000003, \"Austin\": 58.799999999999997}, {\"date\": 20111101.0, \"San Francisco\": 57.899999999999999, \"New York\": 49.600000000000001, \"Austin\": 62.600000000000001}, {\"date\": 20111102.0, \"San Francisco\": 64.599999999999994, \"New York\": 47.200000000000003, \"Austin\": 71.0}, {\"date\": 20111103.0, \"San Francisco\": 56.200000000000003, \"New York\": 50.100000000000001, \"Austin\": 58.399999999999999}, {\"date\": 20111104.0, \"San Francisco\": 50.5, \"New York\": 50.100000000000001, \"Austin\": 45.100000000000001}, {\"date\": 20111105.0, \"San Francisco\": 51.299999999999997, \"New York\": 43.5, \"Austin\": 52.200000000000003}, {\"date\": 20111106.0, \"San Francisco\": 52.600000000000001, \"New York\": 43.799999999999997, \"Austin\": 73.0}, {\"date\": 20111107.0, \"San Francisco\": 51.399999999999999, \"New York\": 48.899999999999999, \"Austin\": 75.400000000000006}, {\"date\": 20111108.0, \"San Francisco\": 50.600000000000001, \"New York\": 55.5, \"Austin\": 72.099999999999994}, {\"date\": 20111109.0, \"San Francisco\": 54.600000000000001, \"New York\": 53.700000000000003, \"Austin\": 56.600000000000001}, {\"date\": 20111110.0, \"San Francisco\": 55.600000000000001, \"New York\": 57.700000000000003, \"Austin\": 55.399999999999999}, {\"date\": 20111111.0, \"San Francisco\": 53.899999999999999, \"New York\": 48.5, \"Austin\": 46.700000000000003}, {\"date\": 20111112.0, \"San Francisco\": 54.0, \"New York\": 46.799999999999997, \"Austin\": 62.0}, {\"date\": 20111113.0, \"San Francisco\": 53.799999999999997, \"New York\": 51.100000000000001, \"Austin\": 71.599999999999994}, {\"date\": 20111114.0, \"San Francisco\": 53.5, \"New York\": 56.799999999999997, \"Austin\": 75.5}, {\"date\": 20111115.0, \"San Francisco\": 53.399999999999999, \"New York\": 59.700000000000003, \"Austin\": 72.099999999999994}, {\"date\": 20111116.0, \"San Francisco\": 52.200000000000003, \"New York\": 56.5, \"Austin\": 65.700000000000003}, {\"date\": 20111117.0, \"San Francisco\": 52.700000000000003, \"New York\": 49.600000000000001, \"Austin\": 56.799999999999997}, {\"date\": 20111118.0, \"San Francisco\": 53.100000000000001, \"New York\": 41.5, \"Austin\": 49.899999999999999}, {\"date\": 20111119.0, \"San Francisco\": 49.0, \"New York\": 44.299999999999997, \"Austin\": 71.700000000000003}, {\"date\": 20111120.0, \"San Francisco\": 50.399999999999999, \"New York\": 54.0, \"Austin\": 77.700000000000003}, {\"date\": 20111121.0, \"San Francisco\": 51.100000000000001, \"New York\": 54.100000000000001, \"Austin\": 76.400000000000006}, {\"date\": 20111122.0, \"San Francisco\": 52.299999999999997, \"New York\": 49.399999999999999, \"Austin\": 68.799999999999997}, {\"date\": 20111123.0, \"San Francisco\": 54.600000000000001, \"New York\": 50.0, \"Austin\": 57.0}, {\"date\": 20111124.0, \"San Francisco\": 55.100000000000001, \"New York\": 44.0, \"Austin\": 55.5}, {\"date\": 20111125.0, \"San Francisco\": 51.5, \"New York\": 50.299999999999997, \"Austin\": 61.600000000000001}, {\"date\": 20111126.0, \"San Francisco\": 53.600000000000001, \"New York\": 52.100000000000001, \"Austin\": 64.099999999999994}, {\"date\": 20111127.0, \"San Francisco\": 52.299999999999997, \"New York\": 49.600000000000001, \"Austin\": 51.100000000000001}, {\"date\": 20111128.0, \"San Francisco\": 51.0, \"New York\": 57.200000000000003, \"Austin\": 43.0}, {\"date\": 20111129.0, \"San Francisco\": 49.5, \"New York\": 59.100000000000001, \"Austin\": 46.399999999999999}, {\"date\": 20111130.0, \"San Francisco\": 49.799999999999997, \"New York\": 50.600000000000001, \"Austin\": 48.0}, {\"date\": 20111201.0, \"San Francisco\": 60.399999999999999, \"New York\": 44.299999999999997, \"Austin\": 48.100000000000001}, {\"date\": 20111202.0, \"San Francisco\": 62.200000000000003, \"New York\": 43.899999999999999, \"Austin\": 60.600000000000001}, {\"date\": 20111203.0, \"San Francisco\": 58.299999999999997, \"New York\": 42.100000000000001, \"Austin\": 62.600000000000001}, {\"date\": 20111204.0, \"San Francisco\": 52.700000000000003, \"New York\": 43.899999999999999, \"Austin\": 57.100000000000001}, {\"date\": 20111205.0, \"San Francisco\": 51.5, \"New York\": 50.200000000000003, \"Austin\": 44.200000000000003}, {\"date\": 20111206.0, \"San Francisco\": 49.899999999999999, \"New York\": 54.200000000000003, \"Austin\": 37.399999999999999}, {\"date\": 20111207.0, \"San Francisco\": 48.600000000000001, \"New York\": 54.600000000000001, \"Austin\": 35.0}, {\"date\": 20111208.0, \"San Francisco\": 46.399999999999999, \"New York\": 43.399999999999999, \"Austin\": 37.0}, {\"date\": 20111209.0, \"San Francisco\": 49.799999999999997, \"New York\": 42.200000000000003, \"Austin\": 45.399999999999999}, {\"date\": 20111210.0, \"San Francisco\": 52.100000000000001, \"New York\": 45.0, \"Austin\": 50.700000000000003}, {\"date\": 20111211.0, \"San Francisco\": 48.799999999999997, \"New York\": 33.799999999999997, \"Austin\": 48.600000000000001}, {\"date\": 20111212.0, \"San Francisco\": 47.399999999999999, \"New York\": 36.799999999999997, \"Austin\": 52.200000000000003}, {\"date\": 20111213.0, \"San Francisco\": 47.200000000000003, \"New York\": 38.600000000000001, \"Austin\": 60.799999999999997}, {\"date\": 20111214.0, \"San Francisco\": 46.100000000000001, \"New York\": 41.899999999999999, \"Austin\": 70.0}, {\"date\": 20111215.0, \"San Francisco\": 48.799999999999997, \"New York\": 49.600000000000001, \"Austin\": 64.200000000000003}, {\"date\": 20111216.0, \"San Francisco\": 47.899999999999999, \"New York\": 50.200000000000003, \"Austin\": 50.899999999999999}, {\"date\": 20111217.0, \"San Francisco\": 49.799999999999997, \"New York\": 40.600000000000001, \"Austin\": 51.600000000000001}, {\"date\": 20111218.0, \"San Francisco\": 49.100000000000001, \"New York\": 29.100000000000001, \"Austin\": 55.200000000000003}, {\"date\": 20111219.0, \"San Francisco\": 48.299999999999997, \"New York\": 33.700000000000003, \"Austin\": 62.100000000000001}, {\"date\": 20111220.0, \"San Francisco\": 49.299999999999997, \"New York\": 45.799999999999997, \"Austin\": 56.299999999999997}, {\"date\": 20111221.0, \"San Francisco\": 48.399999999999999, \"New York\": 47.399999999999999, \"Austin\": 47.200000000000003}, {\"date\": 20111222.0, \"San Francisco\": 53.299999999999997, \"New York\": 54.399999999999999, \"Austin\": 52.299999999999997}, {\"date\": 20111223.0, \"San Francisco\": 47.5, \"New York\": 47.799999999999997, \"Austin\": 45.200000000000003}, {\"date\": 20111224.0, \"San Francisco\": 47.899999999999999, \"New York\": 34.899999999999999, \"Austin\": 43.600000000000001}, {\"date\": 20111225.0, \"San Francisco\": 48.899999999999999, \"New York\": 35.899999999999999, \"Austin\": 42.899999999999999}, {\"date\": 20111226.0, \"San Francisco\": 45.899999999999999, \"New York\": 43.600000000000001, \"Austin\": 48.200000000000003}, {\"date\": 20111227.0, \"San Francisco\": 47.200000000000003, \"New York\": 42.899999999999999, \"Austin\": 45.399999999999999}, {\"date\": 20111228.0, \"San Francisco\": 48.899999999999999, \"New York\": 46.200000000000003, \"Austin\": 44.200000000000003}, {\"date\": 20111229.0, \"San Francisco\": 50.899999999999999, \"New York\": 30.800000000000001, \"Austin\": 50.399999999999999}, {\"date\": 20111230.0, \"San Francisco\": 52.899999999999999, \"New York\": 40.799999999999997, \"Austin\": 52.399999999999999}, {\"date\": 20111231.0, \"San Francisco\": 50.100000000000001, \"New York\": 49.799999999999997, \"Austin\": 53.5}, {\"date\": 20120101.0, \"San Francisco\": 53.899999999999999, \"New York\": 46.299999999999997, \"Austin\": 55.899999999999999}, {\"date\": 20120102.0, \"San Francisco\": 53.100000000000001, \"New York\": 43.200000000000003, \"Austin\": 48.200000000000003}, {\"date\": 20120103.0, \"San Francisco\": 49.700000000000003, \"New York\": 30.300000000000001, \"Austin\": 41.0}, {\"date\": 20120104.0, \"San Francisco\": 52.700000000000003, \"New York\": 19.199999999999999, \"Austin\": 48.899999999999999}, {\"date\": 20120105.0, \"San Francisco\": 52.600000000000001, \"New York\": 32.100000000000001, \"Austin\": 54.799999999999997}, {\"date\": 20120106.0, \"San Francisco\": 49.0, \"New York\": 41.200000000000003, \"Austin\": 61.200000000000003}, {\"date\": 20120107.0, \"San Francisco\": 51.0, \"New York\": 47.0, \"Austin\": 59.700000000000003}, {\"date\": 20120108.0, \"San Francisco\": 56.799999999999997, \"New York\": 46.0, \"Austin\": 52.5}, {\"date\": 20120109.0, \"San Francisco\": 52.299999999999997, \"New York\": 34.700000000000003, \"Austin\": 54.0}, {\"date\": 20120110.0, \"San Francisco\": 51.600000000000001, \"New York\": 39.399999999999999, \"Austin\": 47.700000000000003}, {\"date\": 20120111.0, \"San Francisco\": 49.799999999999997, \"New York\": 40.399999999999999, \"Austin\": 49.200000000000003}, {\"date\": 20120112.0, \"San Francisco\": 51.899999999999999, \"New York\": 45.399999999999999, \"Austin\": 48.399999999999999}, {\"date\": 20120113.0, \"San Francisco\": 53.700000000000003, \"New York\": 40.700000000000003, \"Austin\": 40.200000000000003}, {\"date\": 20120114.0, \"San Francisco\": 52.899999999999999, \"New York\": 30.399999999999999, \"Austin\": 43.899999999999999}, {\"date\": 20120115.0, \"San Francisco\": 49.700000000000003, \"New York\": 23.899999999999999, \"Austin\": 45.200000000000003}, {\"date\": 20120116.0, \"San Francisco\": 45.299999999999997, \"New York\": 22.600000000000001, \"Austin\": 65.0}, {\"date\": 20120117.0, \"San Francisco\": 43.600000000000001, \"New York\": 39.799999999999997, \"Austin\": 68.200000000000003}, {\"date\": 20120118.0, \"San Francisco\": 45.0, \"New York\": 43.200000000000003, \"Austin\": 47.5}, {\"date\": 20120119.0, \"San Francisco\": 47.299999999999997, \"New York\": 26.300000000000001, \"Austin\": 57.100000000000001}, {\"date\": 20120120.0, \"San Francisco\": 51.399999999999999, \"New York\": 32.799999999999997, \"Austin\": 61.899999999999999}, {\"date\": 20120121.0, \"San Francisco\": 53.700000000000003, \"New York\": 27.399999999999999, \"Austin\": 54.600000000000001}, {\"date\": 20120122.0, \"San Francisco\": 48.299999999999997, \"New York\": 25.0, \"Austin\": 56.700000000000003}, {\"date\": 20120123.0, \"San Francisco\": 52.899999999999999, \"New York\": 39.399999999999999, \"Austin\": 54.399999999999999}, {\"date\": 20120124.0, \"San Francisco\": 49.100000000000001, \"New York\": 48.700000000000003, \"Austin\": 52.700000000000003}, {\"date\": 20120125.0, \"San Francisco\": 52.100000000000001, \"New York\": 43.0, \"Austin\": 61.799999999999997}, {\"date\": 20120126.0, \"San Francisco\": 53.600000000000001, \"New York\": 37.100000000000001, \"Austin\": 55.0}, {\"date\": 20120127.0, \"San Francisco\": 50.399999999999999, \"New York\": 48.200000000000003, \"Austin\": 50.700000000000003}, {\"date\": 20120128.0, \"San Francisco\": 50.299999999999997, \"New York\": 43.700000000000003, \"Austin\": 52.899999999999999}, {\"date\": 20120129.0, \"San Francisco\": 53.799999999999997, \"New York\": 40.100000000000001, \"Austin\": 44.399999999999999}, {\"date\": 20120130.0, \"San Francisco\": 51.899999999999999, \"New York\": 38.0, \"Austin\": 49.100000000000001}, {\"date\": 20120131.0, \"San Francisco\": 50.0, \"New York\": 43.5, \"Austin\": 62.799999999999997}, {\"date\": 20120201.0, \"San Francisco\": 50.0, \"New York\": 50.399999999999999, \"Austin\": 64.599999999999994}, {\"date\": 20120202.0, \"San Francisco\": 51.299999999999997, \"New York\": 45.799999999999997, \"Austin\": 61.100000000000001}, {\"date\": 20120203.0, \"San Francisco\": 51.5, \"New York\": 37.5, \"Austin\": 70.0}, {\"date\": 20120204.0, \"San Francisco\": 52.0, \"New York\": 40.799999999999997, \"Austin\": 61.299999999999997}, {\"date\": 20120205.0, \"San Francisco\": 53.799999999999997, \"New York\": 36.5, \"Austin\": 48.200000000000003}, {\"date\": 20120206.0, \"San Francisco\": 54.600000000000001, \"New York\": 39.100000000000001, \"Austin\": 44.200000000000003}, {\"date\": 20120207.0, \"San Francisco\": 54.299999999999997, \"New York\": 43.200000000000003, \"Austin\": 51.299999999999997}, {\"date\": 20120208.0, \"San Francisco\": 51.899999999999999, \"New York\": 36.5, \"Austin\": 49.200000000000003}, {\"date\": 20120209.0, \"San Francisco\": 53.799999999999997, \"New York\": 36.5, \"Austin\": 45.700000000000003}, {\"date\": 20120210.0, \"San Francisco\": 53.899999999999999, \"New York\": 38.299999999999997, \"Austin\": 54.100000000000001}, {\"date\": 20120211.0, \"San Francisco\": 52.299999999999997, \"New York\": 36.899999999999999, \"Austin\": 44.899999999999999}, {\"date\": 20120212.0, \"San Francisco\": 50.100000000000001, \"New York\": 29.699999999999999, \"Austin\": 36.5}, {\"date\": 20120213.0, \"San Francisco\": 49.5, \"New York\": 33.100000000000001, \"Austin\": 44.799999999999997}, {\"date\": 20120214.0, \"San Francisco\": 48.600000000000001, \"New York\": 39.600000000000001, \"Austin\": 52.299999999999997}, {\"date\": 20120215.0, \"San Francisco\": 49.899999999999999, \"New York\": 42.299999999999997, \"Austin\": 68.0}, {\"date\": 20120216.0, \"San Francisco\": 52.399999999999999, \"New York\": 39.700000000000003, \"Austin\": 54.600000000000001}, {\"date\": 20120217.0, \"San Francisco\": 49.899999999999999, \"New York\": 46.0, \"Austin\": 53.799999999999997}, {\"date\": 20120218.0, \"San Francisco\": 51.600000000000001, \"New York\": 41.200000000000003, \"Austin\": 56.200000000000003}, {\"date\": 20120219.0, \"San Francisco\": 47.799999999999997, \"New York\": 39.799999999999997, \"Austin\": 50.799999999999997}, {\"date\": 20120220.0, \"San Francisco\": 48.700000000000003, \"New York\": 38.100000000000001, \"Austin\": 53.0}, {\"date\": 20120221.0, \"San Francisco\": 49.700000000000003, \"New York\": 37.100000000000001, \"Austin\": 61.0}, {\"date\": 20120222.0, \"San Francisco\": 53.399999999999999, \"New York\": 45.5, \"Austin\": 68.799999999999997}, {\"date\": 20120223.0, \"San Francisco\": 54.100000000000001, \"New York\": 50.600000000000001, \"Austin\": 69.400000000000006}, {\"date\": 20120224.0, \"San Francisco\": 55.899999999999999, \"New York\": 42.700000000000003, \"Austin\": 59.299999999999997}, {\"date\": 20120225.0, \"San Francisco\": 51.700000000000003, \"New York\": 42.600000000000001, \"Austin\": 47.200000000000003}, {\"date\": 20120226.0, \"San Francisco\": 47.700000000000003, \"New York\": 36.899999999999999, \"Austin\": 47.700000000000003}, {\"date\": 20120227.0, \"San Francisco\": 45.399999999999999, \"New York\": 40.899999999999999, \"Austin\": 61.899999999999999}, {\"date\": 20120228.0, \"San Francisco\": 47.0, \"New York\": 45.899999999999999, \"Austin\": 67.200000000000003}, {\"date\": 20120229.0, \"San Francisco\": 49.799999999999997, \"New York\": 40.700000000000003, \"Austin\": 70.099999999999994}, {\"date\": 20120301.0, \"San Francisco\": 48.899999999999999, \"New York\": 41.299999999999997, \"Austin\": 62.100000000000001}, {\"date\": 20120302.0, \"San Francisco\": 48.100000000000001, \"New York\": 36.799999999999997, \"Austin\": 72.700000000000003}, {\"date\": 20120303.0, \"San Francisco\": 50.700000000000003, \"New York\": 47.600000000000001, \"Austin\": 59.0}, {\"date\": 20120304.0, \"San Francisco\": 55.0, \"New York\": 44.200000000000003, \"Austin\": 51.799999999999997}, {\"date\": 20120305.0, \"San Francisco\": 48.799999999999997, \"New York\": 38.5, \"Austin\": 55.0}, {\"date\": 20120306.0, \"San Francisco\": 48.399999999999999, \"New York\": 32.899999999999999, \"Austin\": 61.799999999999997}, {\"date\": 20120307.0, \"San Francisco\": 49.899999999999999, \"New York\": 43.299999999999997, \"Austin\": 67.099999999999994}, {\"date\": 20120308.0, \"San Francisco\": 49.200000000000003, \"New York\": 51.200000000000003, \"Austin\": 72.0}, {\"date\": 20120309.0, \"San Francisco\": 51.700000000000003, \"New York\": 47.799999999999997, \"Austin\": 46.399999999999999}, {\"date\": 20120310.0, \"San Francisco\": 49.299999999999997, \"New York\": 37.200000000000003, \"Austin\": 46.700000000000003}, {\"date\": 20120311.0, \"San Francisco\": 50.0, \"New York\": 42.899999999999999, \"Austin\": 56.899999999999999}, {\"date\": 20120312.0, \"San Francisco\": 48.600000000000001, \"New York\": 48.799999999999997, \"Austin\": 61.899999999999999}, {\"date\": 20120313.0, \"San Francisco\": 53.899999999999999, \"New York\": 52.600000000000001, \"Austin\": 68.799999999999997}, {\"date\": 20120314.0, \"San Francisco\": 55.200000000000003, \"New York\": 60.5, \"Austin\": 71.900000000000006}, {\"date\": 20120315.0, \"San Francisco\": 55.899999999999999, \"New York\": 47.200000000000003, \"Austin\": 72.0}, {\"date\": 20120316.0, \"San Francisco\": 54.600000000000001, \"New York\": 44.700000000000003, \"Austin\": 72.5}, {\"date\": 20120317.0, \"San Francisco\": 48.200000000000003, \"New York\": 48.200000000000003, \"Austin\": 71.700000000000003}, {\"date\": 20120318.0, \"San Francisco\": 47.100000000000001, \"New York\": 48.200000000000003, \"Austin\": 71.099999999999994}, {\"date\": 20120319.0, \"San Francisco\": 45.799999999999997, \"New York\": 53.100000000000001, \"Austin\": 73.0}, {\"date\": 20120320.0, \"San Francisco\": 49.700000000000003, \"New York\": 57.799999999999997, \"Austin\": 63.799999999999997}, {\"date\": 20120321.0, \"San Francisco\": 51.399999999999999, \"New York\": 57.5, \"Austin\": 60.0}, {\"date\": 20120322.0, \"San Francisco\": 51.399999999999999, \"New York\": 57.299999999999997, \"Austin\": 62.299999999999997}, {\"date\": 20120323.0, \"San Francisco\": 48.399999999999999, \"New York\": 61.700000000000003, \"Austin\": 61.100000000000001}, {\"date\": 20120324.0, \"San Francisco\": 49.0, \"New York\": 55.799999999999997, \"Austin\": 62.0}, {\"date\": 20120325.0, \"San Francisco\": 46.399999999999999, \"New York\": 48.399999999999999, \"Austin\": 64.599999999999994}, {\"date\": 20120326.0, \"San Francisco\": 49.700000000000003, \"New York\": 49.799999999999997, \"Austin\": 66.0}, {\"date\": 20120327.0, \"San Francisco\": 54.100000000000001, \"New York\": 39.600000000000001, \"Austin\": 65.799999999999997}, {\"date\": 20120328.0, \"San Francisco\": 54.600000000000001, \"New York\": 49.700000000000003, \"Austin\": 69.200000000000003}, {\"date\": 20120329.0, \"San Francisco\": 52.299999999999997, \"New York\": 56.799999999999997, \"Austin\": 69.5}, {\"date\": 20120330.0, \"San Francisco\": 54.5, \"New York\": 46.5, \"Austin\": 73.5}, {\"date\": 20120331.0, \"San Francisco\": 56.200000000000003, \"New York\": 42.200000000000003, \"Austin\": 73.900000000000006}, {\"date\": 20120401.0, \"San Francisco\": 51.100000000000001, \"New York\": 45.299999999999997, \"Austin\": 75.299999999999997}, {\"date\": 20120402.0, \"San Francisco\": 50.5, \"New York\": 48.100000000000001, \"Austin\": 75.400000000000006}, {\"date\": 20120403.0, \"San Francisco\": 52.200000000000003, \"New York\": 51.200000000000003, \"Austin\": 77.299999999999997}, {\"date\": 20120404.0, \"San Francisco\": 50.600000000000001, \"New York\": 61.0, \"Austin\": 67.0}, {\"date\": 20120405.0, \"San Francisco\": 47.899999999999999, \"New York\": 50.700000000000003, \"Austin\": 71.099999999999994}, {\"date\": 20120406.0, \"San Francisco\": 47.399999999999999, \"New York\": 48.0, \"Austin\": 70.400000000000006}, {\"date\": 20120407.0, \"San Francisco\": 49.399999999999999, \"New York\": 51.100000000000001, \"Austin\": 73.599999999999994}, {\"date\": 20120408.0, \"San Francisco\": 50.0, \"New York\": 55.700000000000003, \"Austin\": 71.099999999999994}, {\"date\": 20120409.0, \"San Francisco\": 51.299999999999997, \"New York\": 58.299999999999997, \"Austin\": 70.0}, {\"date\": 20120410.0, \"San Francisco\": 53.799999999999997, \"New York\": 55.0, \"Austin\": 69.0}, {\"date\": 20120411.0, \"San Francisco\": 52.899999999999999, \"New York\": 49.0, \"Austin\": 69.200000000000003}, {\"date\": 20120412.0, \"San Francisco\": 53.899999999999999, \"New York\": 51.700000000000003, \"Austin\": 74.5}, {\"date\": 20120413.0, \"San Francisco\": 50.200000000000003, \"New York\": 53.100000000000001, \"Austin\": 73.400000000000006}, {\"date\": 20120414.0, \"San Francisco\": 50.899999999999999, \"New York\": 55.200000000000003, \"Austin\": 76.0}, {\"date\": 20120415.0, \"San Francisco\": 51.5, \"New York\": 62.299999999999997, \"Austin\": 74.5}, {\"date\": 20120416.0, \"San Francisco\": 51.899999999999999, \"New York\": 62.899999999999999, \"Austin\": 63.600000000000001}, {\"date\": 20120417.0, \"San Francisco\": 53.200000000000003, \"New York\": 69.299999999999997, \"Austin\": 67.299999999999997}, {\"date\": 20120418.0, \"San Francisco\": 53.0, \"New York\": 59.0, \"Austin\": 65.099999999999994}, {\"date\": 20120419.0, \"San Francisco\": 55.100000000000001, \"New York\": 54.100000000000001, \"Austin\": 67.900000000000006}, {\"date\": 20120420.0, \"San Francisco\": 55.799999999999997, \"New York\": 56.5, \"Austin\": 68.900000000000006}, {\"date\": 20120421.0, \"San Francisco\": 58.0, \"New York\": 58.200000000000003, \"Austin\": 65.099999999999994}, {\"date\": 20120422.0, \"San Francisco\": 52.799999999999997, \"New York\": 52.399999999999999, \"Austin\": 65.400000000000006}, {\"date\": 20120423.0, \"San Francisco\": 55.100000000000001, \"New York\": 51.600000000000001, \"Austin\": 70.099999999999994}, {\"date\": 20120424.0, \"San Francisco\": 57.899999999999999, \"New York\": 49.299999999999997, \"Austin\": 67.0}, {\"date\": 20120425.0, \"San Francisco\": 57.5, \"New York\": 52.5, \"Austin\": 75.400000000000006}, {\"date\": 20120426.0, \"San Francisco\": 55.299999999999997, \"New York\": 50.5, \"Austin\": 77.5}, {\"date\": 20120427.0, \"San Francisco\": 53.5, \"New York\": 51.899999999999999, \"Austin\": 77.0}, {\"date\": 20120428.0, \"San Francisco\": 54.700000000000003, \"New York\": 47.399999999999999, \"Austin\": 77.700000000000003}, {\"date\": 20120429.0, \"San Francisco\": 54.0, \"New York\": 54.100000000000001, \"Austin\": 77.700000000000003}, {\"date\": 20120430.0, \"San Francisco\": 53.399999999999999, \"New York\": 51.899999999999999, \"Austin\": 77.700000000000003}, {\"date\": 20120501.0, \"San Francisco\": 52.700000000000003, \"New York\": 57.399999999999999, \"Austin\": 77.0}, {\"date\": 20120502.0, \"San Francisco\": 50.700000000000003, \"New York\": 53.700000000000003, \"Austin\": 77.900000000000006}, {\"date\": 20120503.0, \"San Francisco\": 52.600000000000001, \"New York\": 53.100000000000001, \"Austin\": 79.099999999999994}, {\"date\": 20120504.0, \"San Francisco\": 53.399999999999999, \"New York\": 57.200000000000003, \"Austin\": 80.099999999999994}, {\"date\": 20120505.0, \"San Francisco\": 53.100000000000001, \"New York\": 57.0, \"Austin\": 82.099999999999994}, {\"date\": 20120506.0, \"San Francisco\": 56.5, \"New York\": 56.600000000000001, \"Austin\": 79.0}, {\"date\": 20120507.0, \"San Francisco\": 55.299999999999997, \"New York\": 54.600000000000001, \"Austin\": 79.799999999999997}, {\"date\": 20120508.0, \"San Francisco\": 52.0, \"New York\": 57.899999999999999, \"Austin\": 70.0}, {\"date\": 20120509.0, \"San Francisco\": 52.399999999999999, \"New York\": 59.200000000000003, \"Austin\": 69.799999999999997}, {\"date\": 20120510.0, \"San Francisco\": 53.399999999999999, \"New York\": 61.100000000000001, \"Austin\": 71.299999999999997}, {\"date\": 20120511.0, \"San Francisco\": 53.100000000000001, \"New York\": 59.700000000000003, \"Austin\": 69.400000000000006}, {\"date\": 20120512.0, \"San Francisco\": 49.899999999999999, \"New York\": 64.099999999999994, \"Austin\": 72.0}, {\"date\": 20120513.0, \"San Francisco\": 52.0, \"New York\": 65.299999999999997, \"Austin\": 72.400000000000006}, {\"date\": 20120514.0, \"San Francisco\": 56.0, \"New York\": 64.200000000000003, \"Austin\": 72.5}, {\"date\": 20120515.0, \"San Francisco\": 53.0, \"New York\": 62.0, \"Austin\": 67.599999999999994}, {\"date\": 20120516.0, \"San Francisco\": 51.0, \"New York\": 63.799999999999997, \"Austin\": 69.0}, {\"date\": 20120517.0, \"San Francisco\": 51.399999999999999, \"New York\": 64.5, \"Austin\": 72.700000000000003}, {\"date\": 20120518.0, \"San Francisco\": 52.200000000000003, \"New York\": 61.0, \"Austin\": 73.700000000000003}, {\"date\": 20120519.0, \"San Francisco\": 52.399999999999999, \"New York\": 62.600000000000001, \"Austin\": 77.5}, {\"date\": 20120520.0, \"San Francisco\": 54.5, \"New York\": 66.200000000000003, \"Austin\": 75.799999999999997}, {\"date\": 20120521.0, \"San Francisco\": 52.799999999999997, \"New York\": 62.700000000000003, \"Austin\": 76.900000000000006}, {\"date\": 20120522.0, \"San Francisco\": 53.899999999999999, \"New York\": 63.700000000000003, \"Austin\": 78.799999999999997}, {\"date\": 20120523.0, \"San Francisco\": 56.5, \"New York\": 66.400000000000006, \"Austin\": 77.700000000000003}, {\"date\": 20120524.0, \"San Francisco\": 54.700000000000003, \"New York\": 64.5, \"Austin\": 80.599999999999994}, {\"date\": 20120525.0, \"San Francisco\": 52.5, \"New York\": 65.400000000000006, \"Austin\": 81.400000000000006}, {\"date\": 20120526.0, \"San Francisco\": 52.100000000000001, \"New York\": 69.400000000000006, \"Austin\": 82.299999999999997}, {\"date\": 20120527.0, \"San Francisco\": 52.200000000000003, \"New York\": 71.900000000000006, \"Austin\": 80.299999999999997}, {\"date\": 20120528.0, \"San Francisco\": 52.899999999999999, \"New York\": 74.400000000000006, \"Austin\": 80.299999999999997}, {\"date\": 20120529.0, \"San Francisco\": 52.100000000000001, \"New York\": 75.900000000000006, \"Austin\": 82.200000000000003}, {\"date\": 20120530.0, \"San Francisco\": 52.100000000000001, \"New York\": 72.900000000000006, \"Austin\": 81.900000000000006}, {\"date\": 20120531.0, \"San Francisco\": 53.299999999999997, \"New York\": 72.5, \"Austin\": 82.400000000000006}, {\"date\": 20120601.0, \"San Francisco\": 54.799999999999997, \"New York\": 67.200000000000003, \"Austin\": 77.900000000000006}, {\"date\": 20120602.0, \"San Francisco\": 54.0, \"New York\": 68.299999999999997, \"Austin\": 81.099999999999994}, {\"date\": 20120603.0, \"San Francisco\": 52.299999999999997, \"New York\": 67.700000000000003, \"Austin\": 82.200000000000003}, {\"date\": 20120604.0, \"San Francisco\": 55.299999999999997, \"New York\": 61.899999999999999, \"Austin\": 81.200000000000003}, {\"date\": 20120605.0, \"San Francisco\": 53.5, \"New York\": 58.299999999999997, \"Austin\": 83.0}, {\"date\": 20120606.0, \"San Francisco\": 54.100000000000001, \"New York\": 61.700000000000003, \"Austin\": 83.200000000000003}, {\"date\": 20120607.0, \"San Francisco\": 53.899999999999999, \"New York\": 66.700000000000003, \"Austin\": 82.099999999999994}, {\"date\": 20120608.0, \"San Francisco\": 54.399999999999999, \"New York\": 68.700000000000003, \"Austin\": 77.5}, {\"date\": 20120609.0, \"San Francisco\": 55.0, \"New York\": 72.200000000000003, \"Austin\": 77.900000000000006}, {\"date\": 20120610.0, \"San Francisco\": 60.0, \"New York\": 72.599999999999994, \"Austin\": 82.900000000000006}, {\"date\": 20120611.0, \"San Francisco\": 57.200000000000003, \"New York\": 69.200000000000003, \"Austin\": 86.799999999999997}, {\"date\": 20120612.0, \"San Francisco\": 55.100000000000001, \"New York\": 66.900000000000006, \"Austin\": 85.299999999999997}, {\"date\": 20120613.0, \"San Francisco\": 53.299999999999997, \"New York\": 66.700000000000003, \"Austin\": 76.900000000000006}, {\"date\": 20120614.0, \"San Francisco\": 53.399999999999999, \"New York\": 67.700000000000003, \"Austin\": 84.5}, {\"date\": 20120615.0, \"San Francisco\": 54.600000000000001, \"New York\": 68.5, \"Austin\": 84.400000000000006}, {\"date\": 20120616.0, \"San Francisco\": 57.0, \"New York\": 67.5, \"Austin\": 83.799999999999997}, {\"date\": 20120617.0, \"San Francisco\": 55.600000000000001, \"New York\": 64.200000000000003, \"Austin\": 82.5}, {\"date\": 20120618.0, \"San Francisco\": 52.5, \"New York\": 61.700000000000003, \"Austin\": 82.900000000000006}, {\"date\": 20120619.0, \"San Francisco\": 53.899999999999999, \"New York\": 66.400000000000006, \"Austin\": 82.5}, {\"date\": 20120620.0, \"San Francisco\": 55.299999999999997, \"New York\": 77.900000000000006, \"Austin\": 81.299999999999997}, {\"date\": 20120621.0, \"San Francisco\": 53.299999999999997, \"New York\": 88.299999999999997, \"Austin\": 80.799999999999997}, {\"date\": 20120622.0, \"San Francisco\": 54.100000000000001, \"New York\": 82.200000000000003, \"Austin\": 81.700000000000003}, {\"date\": 20120623.0, \"San Francisco\": 55.200000000000003, \"New York\": 77.0, \"Austin\": 83.900000000000006}, {\"date\": 20120624.0, \"San Francisco\": 55.799999999999997, \"New York\": 75.400000000000006, \"Austin\": 85.5}, {\"date\": 20120625.0, \"San Francisco\": 56.799999999999997, \"New York\": 70.900000000000006, \"Austin\": 87.200000000000003}, {\"date\": 20120626.0, \"San Francisco\": 57.5, \"New York\": 65.900000000000006, \"Austin\": 88.0}, {\"date\": 20120627.0, \"San Francisco\": 57.700000000000003, \"New York\": 73.5, \"Austin\": 89.599999999999994}, {\"date\": 20120628.0, \"San Francisco\": 56.600000000000001, \"New York\": 77.400000000000006, \"Austin\": 86.700000000000003}, {\"date\": 20120629.0, \"San Francisco\": 56.399999999999999, \"New York\": 79.599999999999994, \"Austin\": 85.299999999999997}, {\"date\": 20120630.0, \"San Francisco\": 58.399999999999999, \"New York\": 84.200000000000003, \"Austin\": 81.700000000000003}, {\"date\": 20120701.0, \"San Francisco\": 58.799999999999997, \"New York\": 81.799999999999997, \"Austin\": 78.5}, {\"date\": 20120702.0, \"San Francisco\": 56.399999999999999, \"New York\": 82.5, \"Austin\": 83.099999999999994}, {\"date\": 20120703.0, \"San Francisco\": 56.5, \"New York\": 80.200000000000003, \"Austin\": 83.099999999999994}, {\"date\": 20120704.0, \"San Francisco\": 55.799999999999997, \"New York\": 77.799999999999997, \"Austin\": 84.5}, {\"date\": 20120705.0, \"San Francisco\": 54.799999999999997, \"New York\": 86.099999999999994, \"Austin\": 84.599999999999994}, {\"date\": 20120706.0, \"San Francisco\": 54.899999999999999, \"New York\": 79.900000000000006, \"Austin\": 84.200000000000003}, {\"date\": 20120707.0, \"San Francisco\": 54.700000000000003, \"New York\": 83.5, \"Austin\": 86.700000000000003}, {\"date\": 20120708.0, \"San Francisco\": 52.799999999999997, \"New York\": 81.5, \"Austin\": 84.299999999999997}, {\"date\": 20120709.0, \"San Francisco\": 53.700000000000003, \"New York\": 77.799999999999997, \"Austin\": 83.700000000000003}, {\"date\": 20120710.0, \"San Francisco\": 53.100000000000001, \"New York\": 76.099999999999994, \"Austin\": 77.099999999999994}, {\"date\": 20120711.0, \"San Francisco\": 52.700000000000003, \"New York\": 76.299999999999997, \"Austin\": 77.400000000000006}, {\"date\": 20120712.0, \"San Francisco\": 52.0, \"New York\": 75.799999999999997, \"Austin\": 80.599999999999994}, {\"date\": 20120713.0, \"San Francisco\": 53.399999999999999, \"New York\": 77.200000000000003, \"Austin\": 81.400000000000006}, {\"date\": 20120714.0, \"San Francisco\": 54.0, \"New York\": 79.299999999999997, \"Austin\": 80.200000000000003}, {\"date\": 20120715.0, \"San Francisco\": 54.0, \"New York\": 78.900000000000006, \"Austin\": 81.799999999999997}, {\"date\": 20120716.0, \"San Francisco\": 54.5, \"New York\": 79.599999999999994, \"Austin\": 77.299999999999997}, {\"date\": 20120717.0, \"San Francisco\": 56.700000000000003, \"New York\": 83.299999999999997, \"Austin\": 80.799999999999997}, {\"date\": 20120718.0, \"San Francisco\": 57.5, \"New York\": 84.299999999999997, \"Austin\": 81.599999999999994}, {\"date\": 20120719.0, \"San Francisco\": 57.100000000000001, \"New York\": 75.099999999999994, \"Austin\": 80.900000000000006}, {\"date\": 20120720.0, \"San Francisco\": 58.100000000000001, \"New York\": 68.400000000000006, \"Austin\": 83.900000000000006}, {\"date\": 20120721.0, \"San Francisco\": 57.600000000000001, \"New York\": 68.400000000000006, \"Austin\": 85.599999999999994}, {\"date\": 20120722.0, \"San Francisco\": 56.0, \"New York\": 72.200000000000003, \"Austin\": 83.599999999999994}, {\"date\": 20120723.0, \"San Francisco\": 56.600000000000001, \"New York\": 75.599999999999994, \"Austin\": 84.0}, {\"date\": 20120724.0, \"San Francisco\": 57.799999999999997, \"New York\": 82.599999999999994, \"Austin\": 83.0}, {\"date\": 20120725.0, \"San Francisco\": 57.5, \"New York\": 78.400000000000006, \"Austin\": 84.799999999999997}, {\"date\": 20120726.0, \"San Francisco\": 56.399999999999999, \"New York\": 77.0, \"Austin\": 84.400000000000006}, {\"date\": 20120727.0, \"San Francisco\": 55.299999999999997, \"New York\": 79.400000000000006, \"Austin\": 84.299999999999997}, {\"date\": 20120728.0, \"San Francisco\": 55.0, \"New York\": 77.400000000000006, \"Austin\": 83.900000000000006}, {\"date\": 20120729.0, \"San Francisco\": 55.600000000000001, \"New York\": 72.5, \"Austin\": 85.0}, {\"date\": 20120730.0, \"San Francisco\": 55.600000000000001, \"New York\": 72.900000000000006, \"Austin\": 84.900000000000006}, {\"date\": 20120731.0, \"San Francisco\": 55.899999999999999, \"New York\": 73.599999999999994, \"Austin\": 86.299999999999997}, {\"date\": 20120801.0, \"San Francisco\": 55.399999999999999, \"New York\": 75.0, \"Austin\": 86.5}, {\"date\": 20120802.0, \"San Francisco\": 54.399999999999999, \"New York\": 77.700000000000003, \"Austin\": 85.799999999999997}, {\"date\": 20120803.0, \"San Francisco\": 53.700000000000003, \"New York\": 79.700000000000003, \"Austin\": 85.299999999999997}, {\"date\": 20120804.0, \"San Francisco\": 54.100000000000001, \"New York\": 79.599999999999994, \"Austin\": 86.0}, {\"date\": 20120805.0, \"San Francisco\": 57.799999999999997, \"New York\": 81.5, \"Austin\": 84.200000000000003}, {\"date\": 20120806.0, \"San Francisco\": 58.200000000000003, \"New York\": 80.0, \"Austin\": 81.900000000000006}, {\"date\": 20120807.0, \"San Francisco\": 58.0, \"New York\": 75.700000000000003, \"Austin\": 86.5}, {\"date\": 20120808.0, \"San Francisco\": 57.0, \"New York\": 77.799999999999997, \"Austin\": 86.099999999999994}, {\"date\": 20120809.0, \"San Francisco\": 55.0, \"New York\": 78.599999999999994, \"Austin\": 86.799999999999997}, {\"date\": 20120810.0, \"San Francisco\": 54.799999999999997, \"New York\": 77.799999999999997, \"Austin\": 88.0}, {\"date\": 20120811.0, \"San Francisco\": 53.0, \"New York\": 78.5, \"Austin\": 85.099999999999994}, {\"date\": 20120812.0, \"San Francisco\": 52.5, \"New York\": 78.799999999999997, \"Austin\": 87.400000000000006}, {\"date\": 20120813.0, \"San Francisco\": 53.299999999999997, \"New York\": 78.599999999999994, \"Austin\": 88.0}, {\"date\": 20120814.0, \"San Francisco\": 53.899999999999999, \"New York\": 76.799999999999997, \"Austin\": 88.0}, {\"date\": 20120815.0, \"San Francisco\": 56.200000000000003, \"New York\": 76.700000000000003, \"Austin\": 87.200000000000003}, {\"date\": 20120816.0, \"San Francisco\": 57.100000000000001, \"New York\": 75.900000000000006, \"Austin\": 86.099999999999994}, {\"date\": 20120817.0, \"San Francisco\": 55.299999999999997, \"New York\": 77.599999999999994, \"Austin\": 86.799999999999997}, {\"date\": 20120818.0, \"San Francisco\": 56.200000000000003, \"New York\": 72.599999999999994, \"Austin\": 84.900000000000006}, {\"date\": 20120819.0, \"San Francisco\": 54.299999999999997, \"New York\": 70.400000000000006, \"Austin\": 76.799999999999997}, {\"date\": 20120820.0, \"San Francisco\": 53.100000000000001, \"New York\": 71.799999999999997, \"Austin\": 80.599999999999994}, {\"date\": 20120821.0, \"San Francisco\": 53.399999999999999, \"New York\": 73.599999999999994, \"Austin\": 80.0}, {\"date\": 20120822.0, \"San Francisco\": 54.5, \"New York\": 74.700000000000003, \"Austin\": 78.200000000000003}, {\"date\": 20120823.0, \"San Francisco\": 55.700000000000003, \"New York\": 74.599999999999994, \"Austin\": 79.099999999999994}, {\"date\": 20120824.0, \"San Francisco\": 54.799999999999997, \"New York\": 76.0, \"Austin\": 81.900000000000006}, {\"date\": 20120825.0, \"San Francisco\": 53.799999999999997, \"New York\": 76.200000000000003, \"Austin\": 84.700000000000003}, {\"date\": 20120826.0, \"San Francisco\": 56.5, \"New York\": 73.400000000000006, \"Austin\": 83.5}, {\"date\": 20120827.0, \"San Francisco\": 58.299999999999997, \"New York\": 74.599999999999994, \"Austin\": 82.099999999999994}, {\"date\": 20120828.0, \"San Francisco\": 58.700000000000003, \"New York\": 79.400000000000006, \"Austin\": 84.0}, {\"date\": 20120829.0, \"San Francisco\": 57.5, \"New York\": 74.700000000000003, \"Austin\": 85.700000000000003}, {\"date\": 20120830.0, \"San Francisco\": 55.899999999999999, \"New York\": 73.5, \"Austin\": 87.200000000000003}, {\"date\": 20120831.0, \"San Francisco\": 55.399999999999999, \"New York\": 77.900000000000006, \"Austin\": 82.900000000000006}, {\"date\": 20120901.0, \"San Francisco\": 55.700000000000003, \"New York\": 80.700000000000003, \"Austin\": 84.799999999999997}, {\"date\": 20120902.0, \"San Francisco\": 53.100000000000001, \"New York\": 75.099999999999994, \"Austin\": 83.900000000000006}, {\"date\": 20120903.0, \"San Francisco\": 53.5, \"New York\": 73.5, \"Austin\": 85.5}, {\"date\": 20120904.0, \"San Francisco\": 52.5, \"New York\": 73.5, \"Austin\": 86.400000000000006}, {\"date\": 20120905.0, \"San Francisco\": 54.5, \"New York\": 77.700000000000003, \"Austin\": 85.799999999999997}, {\"date\": 20120906.0, \"San Francisco\": 56.299999999999997, \"New York\": 74.200000000000003, \"Austin\": 85.400000000000006}, {\"date\": 20120907.0, \"San Francisco\": 56.399999999999999, \"New York\": 76.0, \"Austin\": 85.299999999999997}, {\"date\": 20120908.0, \"San Francisco\": 56.5, \"New York\": 77.099999999999994, \"Austin\": 81.900000000000006}, {\"date\": 20120909.0, \"San Francisco\": 56.399999999999999, \"New York\": 69.700000000000003, \"Austin\": 74.799999999999997}, {\"date\": 20120910.0, \"San Francisco\": 55.399999999999999, \"New York\": 67.799999999999997, \"Austin\": 71.599999999999994}, {\"date\": 20120911.0, \"San Francisco\": 56.200000000000003, \"New York\": 64.0, \"Austin\": 75.900000000000006}, {\"date\": 20120912.0, \"San Francisco\": 55.700000000000003, \"New York\": 68.099999999999994, \"Austin\": 82.099999999999994}, {\"date\": 20120913.0, \"San Francisco\": 54.299999999999997, \"New York\": 69.299999999999997, \"Austin\": 80.5}, {\"date\": 20120914.0, \"San Francisco\": 55.200000000000003, \"New York\": 70.0, \"Austin\": 70.0}, {\"date\": 20120915.0, \"San Francisco\": 54.299999999999997, \"New York\": 69.299999999999997, \"Austin\": 71.200000000000003}, {\"date\": 20120916.0, \"San Francisco\": 52.899999999999999, \"New York\": 66.299999999999997, \"Austin\": 70.299999999999997}, {\"date\": 20120917.0, \"San Francisco\": 54.799999999999997, \"New York\": 67.0, \"Austin\": 72.099999999999994}, {\"date\": 20120918.0, \"San Francisco\": 54.799999999999997, \"New York\": 72.799999999999997, \"Austin\": 73.700000000000003}, {\"date\": 20120919.0, \"San Francisco\": 56.799999999999997, \"New York\": 67.200000000000003, \"Austin\": 72.700000000000003}, {\"date\": 20120920.0, \"San Francisco\": 55.399999999999999, \"New York\": 62.100000000000001, \"Austin\": 71.700000000000003}, {\"date\": 20120921.0, \"San Francisco\": 55.799999999999997, \"New York\": 64.0, \"Austin\": 72.900000000000006}, {\"date\": 20120922.0, \"San Francisco\": 55.899999999999999, \"New York\": 65.5, \"Austin\": 73.099999999999994}, {\"date\": 20120923.0, \"San Francisco\": 52.799999999999997, \"New York\": 65.700000000000003, \"Austin\": 75.599999999999994}, {\"date\": 20120924.0, \"San Francisco\": 54.5, \"New York\": 60.399999999999999, \"Austin\": 78.299999999999997}, {\"date\": 20120925.0, \"San Francisco\": 53.299999999999997, \"New York\": 63.200000000000003, \"Austin\": 78.299999999999997}, {\"date\": 20120926.0, \"San Francisco\": 53.600000000000001, \"New York\": 68.5, \"Austin\": 79.599999999999994}, {\"date\": 20120927.0, \"San Francisco\": 52.100000000000001, \"New York\": 69.200000000000003, \"Austin\": 76.400000000000006}, {\"date\": 20120928.0, \"San Francisco\": 52.600000000000001, \"New York\": 68.700000000000003, \"Austin\": 77.200000000000003}, {\"date\": 20120929.0, \"San Francisco\": 53.899999999999999, \"New York\": 62.5, \"Austin\": 75.200000000000003}, {\"date\": 20120930.0, \"San Francisco\": 55.100000000000001, \"New York\": 62.299999999999997, \"Austin\": 71.900000000000006}];\n",
       "\n",
       "  color.domain(d3.keys(data[0]).filter(function(key) { return key !== \"date\"; }));\n",
       "\n",
       "  data.forEach(function(d) {\n",
       "    d.date = parseDate(String(d.date));\n",
       "  });\n",
       "\n",
       "  var cities = color.domain().map(function(name) {\n",
       "    return {\n",
       "      name: name,\n",
       "      values: data.map(function(d) {\n",
       "        return {date: d.date, temperature: +d[name]};\n",
       "      })\n",
       "    };\n",
       "  });\n",
       "\n",
       "  x.domain(d3.extent(data, function(d) { return d.date; }));\n",
       "\n",
       "  y.domain([\n",
       "    d3.min(cities, function(c) { return d3.min(c.values, function(v) { return v.temperature; }); }),\n",
       "    d3.max(cities, function(c) { return d3.max(c.values, function(v) { return v.temperature; }); })\n",
       "  ]);\n",
       "\n",
       "svg.append(\"g\")\n",
       "      .attr(\"class\", \"x axis\")\n",
       "      .attr(\"transform\", \"translate(0,\" + height + \")\")\n",
       "      .call(xAxis);\n",
       "\n",
       "  svg.append(\"g\")\n",
       "      .attr(\"class\", \"y axis\")\n",
       "      .call(yAxis)\n",
       "    .append(\"text\")\n",
       "      .attr(\"transform\", \"rotate(-90)\")\n",
       "      .attr(\"y\", 6)\n",
       "      .attr(\"dy\", \".71em\")\n",
       "      .style(\"text-anchor\", \"end\")\n",
       "      .text(\"Temperature (F)\");\n",
       "\n",
       "  var city = svg.selectAll(\".city\")\n",
       "      .data(cities)\n",
       "    .enter().append(\"g\")\n",
       "      .attr(\"class\", \"city\");\n",
       "\n",
       "  city.append(\"path\")\n",
       "      .attr(\"class\", \"line\")\n",
       "      .attr(\"d\", function(d) { return line(d.values); })\n",
       "      .style(\"stroke\", function(d) { return color(d.name); });\n",
       "\n",
       "  city.append(\"text\")\n",
       "      .datum(function(d) { return {name: d.name, value: d.values[d.values.length - 1]}; })\n",
       "      .attr(\"transform\", function(d) { return \"translate(\" + x(d.value.date) + \",\" + y(d.value.temperature) + \")\"; })\n",
       "      .attr(\"x\", 3)\n",
       "      .attr(\"dy\", \".30em\")\n",
       "      .text(function(d) { return d.name; });\n",
       "\n",
       " </script>\n"
      ],
      "text/plain": [
       "<IPython.core.display.HTML object>"
      ]
     },
     "execution_count": 174,
     "metadata": {},
     "output_type": "execute_result"
    }
   ],
   "source": [
    "html_template = Template('''\n",
    "<style> $css_text </style>\n",
    "<div id=\"graph-div\"></div>\n",
    "<script> $js_text </script>\n",
    "''')\n",
    "js_text = js_text_template.substitute({'python_data': json.dumps(avg_temp_array_of_dict),\n",
    "                                       'graphdiv': 'graph-div'})\n",
    "HTML(html_template.substitute({'css_text': css_text, 'js_text': js_text}))"
   ]
  },
  {
   "cell_type": "code",
   "execution_count": null,
   "metadata": {
    "collapsed": true
   },
   "outputs": [],
   "source": []
  },
  {
   "cell_type": "code",
   "execution_count": null,
   "metadata": {
    "collapsed": true
   },
   "outputs": [],
   "source": []
  },
  {
   "cell_type": "code",
   "execution_count": null,
   "metadata": {
    "collapsed": true
   },
   "outputs": [],
   "source": []
  },
  {
   "cell_type": "code",
   "execution_count": null,
   "metadata": {
    "collapsed": true
   },
   "outputs": [],
   "source": []
  },
  {
   "cell_type": "code",
   "execution_count": null,
   "metadata": {
    "collapsed": true
   },
   "outputs": [],
   "source": []
  },
  {
   "cell_type": "code",
   "execution_count": null,
   "metadata": {
    "collapsed": true
   },
   "outputs": [],
   "source": []
  },
  {
   "cell_type": "code",
   "execution_count": null,
   "metadata": {
    "collapsed": true
   },
   "outputs": [],
   "source": []
  }
 ],
 "metadata": {
  "kernelspec": {
   "display_name": "Python 2",
   "language": "python",
   "name": "python2"
  },
  "language_info": {
   "codemirror_mode": {
    "name": "ipython",
    "version": 2
   },
   "file_extension": ".py",
   "mimetype": "text/x-python",
   "name": "python",
   "nbconvert_exporter": "python",
   "pygments_lexer": "ipython2",
   "version": "2.7.11"
  }
 },
 "nbformat": 4,
 "nbformat_minor": 0
}
